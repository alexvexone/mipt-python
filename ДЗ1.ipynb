{
  "nbformat": 4,
  "nbformat_minor": 0,
  "metadata": {
    "colab": {
      "provenance": []
    },
    "kernelspec": {
      "name": "python3",
      "display_name": "Python 3"
    },
    "language_info": {
      "name": "python"
    }
  },
  "cells": [
    {
      "cell_type": "code",
      "execution_count": null,
      "metadata": {
        "colab": {
          "base_uri": "https://localhost:8080/"
        },
        "id": "V4bFMs81g39C",
        "outputId": "26868265-249f-4547-a3f2-23d69fe1c999"
      },
      "outputs": [
        {
          "output_type": "execute_result",
          "data": {
            "text/plain": [
              "{15, 35, 54, 98, 119, 213}"
            ]
          },
          "metadata": {},
          "execution_count": 25
        }
      ],
      "source": [
        "input = {\n",
        "  'user1': [213, 213, 213, 15, 213],\n",
        "  'user2': [54, 54, 119, 119, 119],\n",
        "  'user3': [213, 98, 98, 35],\n",
        "}\n",
        "\n",
        "unique = {\n",
        "    element for elements in input.values() for element in elements\n",
        "}\n",
        "\n",
        "unique"
      ]
    },
    {
      "cell_type": "code",
      "source": [],
      "metadata": {
        "id": "q1-RpYINhOcv"
      },
      "execution_count": null,
      "outputs": []
    }
  ]
}